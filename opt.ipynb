{
  "nbformat": 4,
  "nbformat_minor": 0,
  "metadata": {
    "colab": {
      "provenance": []
    },
    "kernelspec": {
      "name": "python3",
      "display_name": "Python 3"
    },
    "language_info": {
      "name": "python"
    }
  },
  "cells": [
    {
      "cell_type": "code",
      "execution_count": 51,
      "metadata": {
        "colab": {
          "base_uri": "https://localhost:8080/",
          "height": 452
        },
        "id": "-MA0aR5qcMeb",
        "outputId": "8c53f43c-1940-4bb3-bba1-519b38a2ba32"
      },
      "outputs": [
        {
          "output_type": "execute_result",
          "data": {
            "text/plain": [
              "        EIN                                      NAME APPLICATION_TYPE  \\\n",
              "0  10520599              BLUE KNIGHTS MOTORCYCLE CLUB              T10   \n",
              "1  10531628    AMERICAN CHESAPEAKE CLUB CHARITABLE TR               T3   \n",
              "2  10547893        ST CLOUD PROFESSIONAL FIREFIGHTERS               T5   \n",
              "3  10553066            SOUTHSIDE ATHLETIC ASSOCIATION               T3   \n",
              "4  10556103  GENETIC RESEARCH INSTITUTE OF THE DESERT               T3   \n",
              "\n",
              "        AFFILIATION CLASSIFICATION      USE_CASE  ORGANIZATION  STATUS  \\\n",
              "0       Independent          C1000    ProductDev   Association       1   \n",
              "1       Independent          C2000  Preservation  Co-operative       1   \n",
              "2  CompanySponsored          C3000    ProductDev   Association       1   \n",
              "3  CompanySponsored          C2000  Preservation         Trust       1   \n",
              "4       Independent          C1000     Heathcare         Trust       1   \n",
              "\n",
              "      INCOME_AMT SPECIAL_CONSIDERATIONS  ASK_AMT  IS_SUCCESSFUL  \n",
              "0              0                      N     5000              1  \n",
              "1         1-9999                      N   108590              1  \n",
              "2              0                      N     5000              0  \n",
              "3    10000-24999                      N     6692              1  \n",
              "4  100000-499999                      N   142590              1  "
            ],
            "text/html": [
              "\n",
              "  <div id=\"df-b4a59ef2-fa14-4148-bda6-ce79c48ea868\" class=\"colab-df-container\">\n",
              "    <div>\n",
              "<style scoped>\n",
              "    .dataframe tbody tr th:only-of-type {\n",
              "        vertical-align: middle;\n",
              "    }\n",
              "\n",
              "    .dataframe tbody tr th {\n",
              "        vertical-align: top;\n",
              "    }\n",
              "\n",
              "    .dataframe thead th {\n",
              "        text-align: right;\n",
              "    }\n",
              "</style>\n",
              "<table border=\"1\" class=\"dataframe\">\n",
              "  <thead>\n",
              "    <tr style=\"text-align: right;\">\n",
              "      <th></th>\n",
              "      <th>EIN</th>\n",
              "      <th>NAME</th>\n",
              "      <th>APPLICATION_TYPE</th>\n",
              "      <th>AFFILIATION</th>\n",
              "      <th>CLASSIFICATION</th>\n",
              "      <th>USE_CASE</th>\n",
              "      <th>ORGANIZATION</th>\n",
              "      <th>STATUS</th>\n",
              "      <th>INCOME_AMT</th>\n",
              "      <th>SPECIAL_CONSIDERATIONS</th>\n",
              "      <th>ASK_AMT</th>\n",
              "      <th>IS_SUCCESSFUL</th>\n",
              "    </tr>\n",
              "  </thead>\n",
              "  <tbody>\n",
              "    <tr>\n",
              "      <th>0</th>\n",
              "      <td>10520599</td>\n",
              "      <td>BLUE KNIGHTS MOTORCYCLE CLUB</td>\n",
              "      <td>T10</td>\n",
              "      <td>Independent</td>\n",
              "      <td>C1000</td>\n",
              "      <td>ProductDev</td>\n",
              "      <td>Association</td>\n",
              "      <td>1</td>\n",
              "      <td>0</td>\n",
              "      <td>N</td>\n",
              "      <td>5000</td>\n",
              "      <td>1</td>\n",
              "    </tr>\n",
              "    <tr>\n",
              "      <th>1</th>\n",
              "      <td>10531628</td>\n",
              "      <td>AMERICAN CHESAPEAKE CLUB CHARITABLE TR</td>\n",
              "      <td>T3</td>\n",
              "      <td>Independent</td>\n",
              "      <td>C2000</td>\n",
              "      <td>Preservation</td>\n",
              "      <td>Co-operative</td>\n",
              "      <td>1</td>\n",
              "      <td>1-9999</td>\n",
              "      <td>N</td>\n",
              "      <td>108590</td>\n",
              "      <td>1</td>\n",
              "    </tr>\n",
              "    <tr>\n",
              "      <th>2</th>\n",
              "      <td>10547893</td>\n",
              "      <td>ST CLOUD PROFESSIONAL FIREFIGHTERS</td>\n",
              "      <td>T5</td>\n",
              "      <td>CompanySponsored</td>\n",
              "      <td>C3000</td>\n",
              "      <td>ProductDev</td>\n",
              "      <td>Association</td>\n",
              "      <td>1</td>\n",
              "      <td>0</td>\n",
              "      <td>N</td>\n",
              "      <td>5000</td>\n",
              "      <td>0</td>\n",
              "    </tr>\n",
              "    <tr>\n",
              "      <th>3</th>\n",
              "      <td>10553066</td>\n",
              "      <td>SOUTHSIDE ATHLETIC ASSOCIATION</td>\n",
              "      <td>T3</td>\n",
              "      <td>CompanySponsored</td>\n",
              "      <td>C2000</td>\n",
              "      <td>Preservation</td>\n",
              "      <td>Trust</td>\n",
              "      <td>1</td>\n",
              "      <td>10000-24999</td>\n",
              "      <td>N</td>\n",
              "      <td>6692</td>\n",
              "      <td>1</td>\n",
              "    </tr>\n",
              "    <tr>\n",
              "      <th>4</th>\n",
              "      <td>10556103</td>\n",
              "      <td>GENETIC RESEARCH INSTITUTE OF THE DESERT</td>\n",
              "      <td>T3</td>\n",
              "      <td>Independent</td>\n",
              "      <td>C1000</td>\n",
              "      <td>Heathcare</td>\n",
              "      <td>Trust</td>\n",
              "      <td>1</td>\n",
              "      <td>100000-499999</td>\n",
              "      <td>N</td>\n",
              "      <td>142590</td>\n",
              "      <td>1</td>\n",
              "    </tr>\n",
              "  </tbody>\n",
              "</table>\n",
              "</div>\n",
              "    <div class=\"colab-df-buttons\">\n",
              "\n",
              "  <div class=\"colab-df-container\">\n",
              "    <button class=\"colab-df-convert\" onclick=\"convertToInteractive('df-b4a59ef2-fa14-4148-bda6-ce79c48ea868')\"\n",
              "            title=\"Convert this dataframe to an interactive table.\"\n",
              "            style=\"display:none;\">\n",
              "\n",
              "  <svg xmlns=\"http://www.w3.org/2000/svg\" height=\"24px\" viewBox=\"0 -960 960 960\">\n",
              "    <path d=\"M120-120v-720h720v720H120Zm60-500h600v-160H180v160Zm220 220h160v-160H400v160Zm0 220h160v-160H400v160ZM180-400h160v-160H180v160Zm440 0h160v-160H620v160ZM180-180h160v-160H180v160Zm440 0h160v-160H620v160Z\"/>\n",
              "  </svg>\n",
              "    </button>\n",
              "\n",
              "  <style>\n",
              "    .colab-df-container {\n",
              "      display:flex;\n",
              "      gap: 12px;\n",
              "    }\n",
              "\n",
              "    .colab-df-convert {\n",
              "      background-color: #E8F0FE;\n",
              "      border: none;\n",
              "      border-radius: 50%;\n",
              "      cursor: pointer;\n",
              "      display: none;\n",
              "      fill: #1967D2;\n",
              "      height: 32px;\n",
              "      padding: 0 0 0 0;\n",
              "      width: 32px;\n",
              "    }\n",
              "\n",
              "    .colab-df-convert:hover {\n",
              "      background-color: #E2EBFA;\n",
              "      box-shadow: 0px 1px 2px rgba(60, 64, 67, 0.3), 0px 1px 3px 1px rgba(60, 64, 67, 0.15);\n",
              "      fill: #174EA6;\n",
              "    }\n",
              "\n",
              "    .colab-df-buttons div {\n",
              "      margin-bottom: 4px;\n",
              "    }\n",
              "\n",
              "    [theme=dark] .colab-df-convert {\n",
              "      background-color: #3B4455;\n",
              "      fill: #D2E3FC;\n",
              "    }\n",
              "\n",
              "    [theme=dark] .colab-df-convert:hover {\n",
              "      background-color: #434B5C;\n",
              "      box-shadow: 0px 1px 3px 1px rgba(0, 0, 0, 0.15);\n",
              "      filter: drop-shadow(0px 1px 2px rgba(0, 0, 0, 0.3));\n",
              "      fill: #FFFFFF;\n",
              "    }\n",
              "  </style>\n",
              "\n",
              "    <script>\n",
              "      const buttonEl =\n",
              "        document.querySelector('#df-b4a59ef2-fa14-4148-bda6-ce79c48ea868 button.colab-df-convert');\n",
              "      buttonEl.style.display =\n",
              "        google.colab.kernel.accessAllowed ? 'block' : 'none';\n",
              "\n",
              "      async function convertToInteractive(key) {\n",
              "        const element = document.querySelector('#df-b4a59ef2-fa14-4148-bda6-ce79c48ea868');\n",
              "        const dataTable =\n",
              "          await google.colab.kernel.invokeFunction('convertToInteractive',\n",
              "                                                    [key], {});\n",
              "        if (!dataTable) return;\n",
              "\n",
              "        const docLinkHtml = 'Like what you see? Visit the ' +\n",
              "          '<a target=\"_blank\" href=https://colab.research.google.com/notebooks/data_table.ipynb>data table notebook</a>'\n",
              "          + ' to learn more about interactive tables.';\n",
              "        element.innerHTML = '';\n",
              "        dataTable['output_type'] = 'display_data';\n",
              "        await google.colab.output.renderOutput(dataTable, element);\n",
              "        const docLink = document.createElement('div');\n",
              "        docLink.innerHTML = docLinkHtml;\n",
              "        element.appendChild(docLink);\n",
              "      }\n",
              "    </script>\n",
              "  </div>\n",
              "\n",
              "\n",
              "<div id=\"df-0ad94f87-3d75-4b79-ab09-4ce79118c9af\">\n",
              "  <button class=\"colab-df-quickchart\" onclick=\"quickchart('df-0ad94f87-3d75-4b79-ab09-4ce79118c9af')\"\n",
              "            title=\"Suggest charts\"\n",
              "            style=\"display:none;\">\n",
              "\n",
              "<svg xmlns=\"http://www.w3.org/2000/svg\" height=\"24px\"viewBox=\"0 0 24 24\"\n",
              "     width=\"24px\">\n",
              "    <g>\n",
              "        <path d=\"M19 3H5c-1.1 0-2 .9-2 2v14c0 1.1.9 2 2 2h14c1.1 0 2-.9 2-2V5c0-1.1-.9-2-2-2zM9 17H7v-7h2v7zm4 0h-2V7h2v10zm4 0h-2v-4h2v4z\"/>\n",
              "    </g>\n",
              "</svg>\n",
              "  </button>\n",
              "\n",
              "<style>\n",
              "  .colab-df-quickchart {\n",
              "      --bg-color: #E8F0FE;\n",
              "      --fill-color: #1967D2;\n",
              "      --hover-bg-color: #E2EBFA;\n",
              "      --hover-fill-color: #174EA6;\n",
              "      --disabled-fill-color: #AAA;\n",
              "      --disabled-bg-color: #DDD;\n",
              "  }\n",
              "\n",
              "  [theme=dark] .colab-df-quickchart {\n",
              "      --bg-color: #3B4455;\n",
              "      --fill-color: #D2E3FC;\n",
              "      --hover-bg-color: #434B5C;\n",
              "      --hover-fill-color: #FFFFFF;\n",
              "      --disabled-bg-color: #3B4455;\n",
              "      --disabled-fill-color: #666;\n",
              "  }\n",
              "\n",
              "  .colab-df-quickchart {\n",
              "    background-color: var(--bg-color);\n",
              "    border: none;\n",
              "    border-radius: 50%;\n",
              "    cursor: pointer;\n",
              "    display: none;\n",
              "    fill: var(--fill-color);\n",
              "    height: 32px;\n",
              "    padding: 0;\n",
              "    width: 32px;\n",
              "  }\n",
              "\n",
              "  .colab-df-quickchart:hover {\n",
              "    background-color: var(--hover-bg-color);\n",
              "    box-shadow: 0 1px 2px rgba(60, 64, 67, 0.3), 0 1px 3px 1px rgba(60, 64, 67, 0.15);\n",
              "    fill: var(--button-hover-fill-color);\n",
              "  }\n",
              "\n",
              "  .colab-df-quickchart-complete:disabled,\n",
              "  .colab-df-quickchart-complete:disabled:hover {\n",
              "    background-color: var(--disabled-bg-color);\n",
              "    fill: var(--disabled-fill-color);\n",
              "    box-shadow: none;\n",
              "  }\n",
              "\n",
              "  .colab-df-spinner {\n",
              "    border: 2px solid var(--fill-color);\n",
              "    border-color: transparent;\n",
              "    border-bottom-color: var(--fill-color);\n",
              "    animation:\n",
              "      spin 1s steps(1) infinite;\n",
              "  }\n",
              "\n",
              "  @keyframes spin {\n",
              "    0% {\n",
              "      border-color: transparent;\n",
              "      border-bottom-color: var(--fill-color);\n",
              "      border-left-color: var(--fill-color);\n",
              "    }\n",
              "    20% {\n",
              "      border-color: transparent;\n",
              "      border-left-color: var(--fill-color);\n",
              "      border-top-color: var(--fill-color);\n",
              "    }\n",
              "    30% {\n",
              "      border-color: transparent;\n",
              "      border-left-color: var(--fill-color);\n",
              "      border-top-color: var(--fill-color);\n",
              "      border-right-color: var(--fill-color);\n",
              "    }\n",
              "    40% {\n",
              "      border-color: transparent;\n",
              "      border-right-color: var(--fill-color);\n",
              "      border-top-color: var(--fill-color);\n",
              "    }\n",
              "    60% {\n",
              "      border-color: transparent;\n",
              "      border-right-color: var(--fill-color);\n",
              "    }\n",
              "    80% {\n",
              "      border-color: transparent;\n",
              "      border-right-color: var(--fill-color);\n",
              "      border-bottom-color: var(--fill-color);\n",
              "    }\n",
              "    90% {\n",
              "      border-color: transparent;\n",
              "      border-bottom-color: var(--fill-color);\n",
              "    }\n",
              "  }\n",
              "</style>\n",
              "\n",
              "  <script>\n",
              "    async function quickchart(key) {\n",
              "      const quickchartButtonEl =\n",
              "        document.querySelector('#' + key + ' button');\n",
              "      quickchartButtonEl.disabled = true;  // To prevent multiple clicks.\n",
              "      quickchartButtonEl.classList.add('colab-df-spinner');\n",
              "      try {\n",
              "        const charts = await google.colab.kernel.invokeFunction(\n",
              "            'suggestCharts', [key], {});\n",
              "      } catch (error) {\n",
              "        console.error('Error during call to suggestCharts:', error);\n",
              "      }\n",
              "      quickchartButtonEl.classList.remove('colab-df-spinner');\n",
              "      quickchartButtonEl.classList.add('colab-df-quickchart-complete');\n",
              "    }\n",
              "    (() => {\n",
              "      let quickchartButtonEl =\n",
              "        document.querySelector('#df-0ad94f87-3d75-4b79-ab09-4ce79118c9af button');\n",
              "      quickchartButtonEl.style.display =\n",
              "        google.colab.kernel.accessAllowed ? 'block' : 'none';\n",
              "    })();\n",
              "  </script>\n",
              "</div>\n",
              "\n",
              "    </div>\n",
              "  </div>\n"
            ],
            "application/vnd.google.colaboratory.intrinsic+json": {
              "type": "dataframe",
              "variable_name": "application_df",
              "summary": "{\n  \"name\": \"application_df\",\n  \"rows\": 34299,\n  \"fields\": [\n    {\n      \"column\": \"EIN\",\n      \"properties\": {\n        \"dtype\": \"number\",\n        \"std\": 245147183,\n        \"min\": 10520599,\n        \"max\": 996086871,\n        \"num_unique_values\": 34299,\n        \"samples\": [\n          271598055,\n          900109768,\n          352562499\n        ],\n        \"semantic_type\": \"\",\n        \"description\": \"\"\n      }\n    },\n    {\n      \"column\": \"NAME\",\n      \"properties\": {\n        \"dtype\": \"string\",\n        \"num_unique_values\": 19568,\n        \"samples\": [\n          \"LOCAL 12 USW GOODYEAR INSTITUTE FORCAREER DEVELOPMENT\",\n          \"INTERNATION ASSOCIATION OF ELECTRICAL INSPECTORS\",\n          \"BRICKLAYERS & ALLIED CRAFTWORKERS LOCAL 13 VACATION FUND\"\n        ],\n        \"semantic_type\": \"\",\n        \"description\": \"\"\n      }\n    },\n    {\n      \"column\": \"APPLICATION_TYPE\",\n      \"properties\": {\n        \"dtype\": \"category\",\n        \"num_unique_values\": 17,\n        \"samples\": [\n          \"T10\",\n          \"T3\",\n          \"T6\"\n        ],\n        \"semantic_type\": \"\",\n        \"description\": \"\"\n      }\n    },\n    {\n      \"column\": \"AFFILIATION\",\n      \"properties\": {\n        \"dtype\": \"category\",\n        \"num_unique_values\": 6,\n        \"samples\": [\n          \"Independent\",\n          \"CompanySponsored\",\n          \"Other\"\n        ],\n        \"semantic_type\": \"\",\n        \"description\": \"\"\n      }\n    },\n    {\n      \"column\": \"CLASSIFICATION\",\n      \"properties\": {\n        \"dtype\": \"category\",\n        \"num_unique_values\": 71,\n        \"samples\": [\n          \"C1500\",\n          \"C1000\",\n          \"C1570\"\n        ],\n        \"semantic_type\": \"\",\n        \"description\": \"\"\n      }\n    },\n    {\n      \"column\": \"USE_CASE\",\n      \"properties\": {\n        \"dtype\": \"category\",\n        \"num_unique_values\": 5,\n        \"samples\": [\n          \"Preservation\",\n          \"Other\",\n          \"Heathcare\"\n        ],\n        \"semantic_type\": \"\",\n        \"description\": \"\"\n      }\n    },\n    {\n      \"column\": \"ORGANIZATION\",\n      \"properties\": {\n        \"dtype\": \"category\",\n        \"num_unique_values\": 4,\n        \"samples\": [\n          \"Co-operative\",\n          \"Corporation\",\n          \"Association\"\n        ],\n        \"semantic_type\": \"\",\n        \"description\": \"\"\n      }\n    },\n    {\n      \"column\": \"STATUS\",\n      \"properties\": {\n        \"dtype\": \"number\",\n        \"std\": 0,\n        \"min\": 0,\n        \"max\": 1,\n        \"num_unique_values\": 2,\n        \"samples\": [\n          0,\n          1\n        ],\n        \"semantic_type\": \"\",\n        \"description\": \"\"\n      }\n    },\n    {\n      \"column\": \"INCOME_AMT\",\n      \"properties\": {\n        \"dtype\": \"category\",\n        \"num_unique_values\": 9,\n        \"samples\": [\n          \"1M-5M\",\n          \"1-9999\"\n        ],\n        \"semantic_type\": \"\",\n        \"description\": \"\"\n      }\n    },\n    {\n      \"column\": \"SPECIAL_CONSIDERATIONS\",\n      \"properties\": {\n        \"dtype\": \"category\",\n        \"num_unique_values\": 2,\n        \"samples\": [\n          \"Y\",\n          \"N\"\n        ],\n        \"semantic_type\": \"\",\n        \"description\": \"\"\n      }\n    },\n    {\n      \"column\": \"ASK_AMT\",\n      \"properties\": {\n        \"dtype\": \"number\",\n        \"std\": 87130452,\n        \"min\": 5000,\n        \"max\": 8597806340,\n        \"num_unique_values\": 8747,\n        \"samples\": [\n          1328927,\n          42942\n        ],\n        \"semantic_type\": \"\",\n        \"description\": \"\"\n      }\n    },\n    {\n      \"column\": \"IS_SUCCESSFUL\",\n      \"properties\": {\n        \"dtype\": \"number\",\n        \"std\": 0,\n        \"min\": 0,\n        \"max\": 1,\n        \"num_unique_values\": 2,\n        \"samples\": [\n          0,\n          1\n        ],\n        \"semantic_type\": \"\",\n        \"description\": \"\"\n      }\n    }\n  ]\n}"
            }
          },
          "metadata": {},
          "execution_count": 51
        }
      ],
      "source": [
        "# Import our dependencies\n",
        "from sklearn.model_selection import train_test_split\n",
        "from sklearn.preprocessing import StandardScaler\n",
        "import pandas as pd\n",
        "import tensorflow as tf\n",
        "from tensorflow.keras import Sequential\n",
        "from tensorflow.keras.layers import Dense\n",
        "from keras.layers import Dense, Dropout\n",
        "from tensorflow.keras.callbacks import EarlyStopping\n",
        "import numpy as np\n",
        "#  Import and read the charity_data.csv.\n",
        "import pandas as pd\n",
        "application_df = pd.read_csv(\"https://static.bc-edx.com/data/dl-1-2/m21/lms/starter/charity_data.csv\")\n",
        "application_df.head()"
      ]
    },
    {
      "cell_type": "code",
      "source": [
        "# Drop non-beneficial columns\n",
        "applicatio_df = application_df.drop(['EIN', 'NAME'], axis=1)\n",
        "\n"
      ],
      "metadata": {
        "id": "w2_SUCCJcWYZ"
      },
      "execution_count": 52,
      "outputs": []
    },
    {
      "cell_type": "code",
      "source": [
        "# Determine the number of unique values in each column.\n",
        "unique_values = application_df.nunique()\n",
        "print(unique_values)"
      ],
      "metadata": {
        "colab": {
          "base_uri": "https://localhost:8080/"
        },
        "id": "Q445uC9ng9Eu",
        "outputId": "7e384902-6b74-488c-88da-adbb8a53d35f"
      },
      "execution_count": 53,
      "outputs": [
        {
          "output_type": "stream",
          "name": "stdout",
          "text": [
            "EIN                       34299\n",
            "NAME                      19568\n",
            "APPLICATION_TYPE             17\n",
            "AFFILIATION                   6\n",
            "CLASSIFICATION               71\n",
            "USE_CASE                      5\n",
            "ORGANIZATION                  4\n",
            "STATUS                        2\n",
            "INCOME_AMT                    9\n",
            "SPECIAL_CONSIDERATIONS        2\n",
            "ASK_AMT                    8747\n",
            "IS_SUCCESSFUL                 2\n",
            "dtype: int64\n"
          ]
        }
      ]
    },
    {
      "cell_type": "code",
      "source": [
        "#termine the  Denumber of unique values in each column.\n",
        "unique_values = application_df.nunique()\n",
        "print(unique_values)"
      ],
      "metadata": {
        "colab": {
          "base_uri": "https://localhost:8080/"
        },
        "id": "-ykvXyfyhsJO",
        "outputId": "3cfa94f6-abb6-4dae-f535-e214994ca073"
      },
      "execution_count": 54,
      "outputs": [
        {
          "output_type": "stream",
          "name": "stdout",
          "text": [
            "EIN                       34299\n",
            "NAME                      19568\n",
            "APPLICATION_TYPE             17\n",
            "AFFILIATION                   6\n",
            "CLASSIFICATION               71\n",
            "USE_CASE                      5\n",
            "ORGANIZATION                  4\n",
            "STATUS                        2\n",
            "INCOME_AMT                    9\n",
            "SPECIAL_CONSIDERATIONS        2\n",
            "ASK_AMT                    8747\n",
            "IS_SUCCESSFUL                 2\n",
            "dtype: int64\n"
          ]
        }
      ]
    },
    {
      "cell_type": "code",
      "source": [
        "# Look at APPLICATION_TYPE value counts for binning\n",
        "application_type_counts = application_df['APPLICATION_TYPE'].value_counts()\n",
        "print(application_type_counts)\n"
      ],
      "metadata": {
        "colab": {
          "base_uri": "https://localhost:8080/"
        },
        "id": "3cxUvD-wiGUO",
        "outputId": "8a78814b-f3de-4b63-ef16-e8d6af109672"
      },
      "execution_count": 55,
      "outputs": [
        {
          "output_type": "stream",
          "name": "stdout",
          "text": [
            "T3     27037\n",
            "T4      1542\n",
            "T6      1216\n",
            "T5      1173\n",
            "T19     1065\n",
            "T8       737\n",
            "T7       725\n",
            "T10      528\n",
            "T9       156\n",
            "T13       66\n",
            "T12       27\n",
            "T2        16\n",
            "T25        3\n",
            "T14        3\n",
            "T29        2\n",
            "T15        2\n",
            "T17        1\n",
            "Name: APPLICATION_TYPE, dtype: int64\n"
          ]
        }
      ]
    },
    {
      "cell_type": "code",
      "source": [
        "# Choose a cutoff value and create a list of application types to be replaced\n",
        "# use the variable name `application_types_to_replace`\n",
        "cutoff = 500\n",
        "application_types_to_replace = [app_type for app_type, count in application_type_counts.items() if count < cutoff]\n",
        "\n",
        "# Replace in dataframe\n",
        "for app in application_types_to_replace:\n",
        "    application_df['APPLICATION_TYPE'] = application_df['APPLICATION_TYPE'].replace(app,\"Other\")\n",
        "\n",
        "# Check to make sure binning was successful\n",
        "application_df['APPLICATION_TYPE'].value_counts()"
      ],
      "metadata": {
        "colab": {
          "base_uri": "https://localhost:8080/"
        },
        "id": "eDwOT1mfjsuH",
        "outputId": "76d8b7a5-3a90-45bf-a286-22a385650099"
      },
      "execution_count": 56,
      "outputs": [
        {
          "output_type": "execute_result",
          "data": {
            "text/plain": [
              "T3       27037\n",
              "T4        1542\n",
              "T6        1216\n",
              "T5        1173\n",
              "T19       1065\n",
              "T8         737\n",
              "T7         725\n",
              "T10        528\n",
              "Other      276\n",
              "Name: APPLICATION_TYPE, dtype: int64"
            ]
          },
          "metadata": {},
          "execution_count": 56
        }
      ]
    },
    {
      "cell_type": "code",
      "source": [
        "# Look at CLASSIFICATION value counts for binning\n",
        "classification_counts = application_df['CLASSIFICATION'].value_counts()\n",
        "print(classification_counts)"
      ],
      "metadata": {
        "colab": {
          "base_uri": "https://localhost:8080/"
        },
        "id": "NIO3eoc-j2en",
        "outputId": "fc5034f5-baf4-44d6-a860-3143bd3f3624"
      },
      "execution_count": 57,
      "outputs": [
        {
          "output_type": "stream",
          "name": "stdout",
          "text": [
            "C1000    17326\n",
            "C2000     6074\n",
            "C1200     4837\n",
            "C3000     1918\n",
            "C2100     1883\n",
            "         ...  \n",
            "C4120        1\n",
            "C8210        1\n",
            "C2561        1\n",
            "C4500        1\n",
            "C2150        1\n",
            "Name: CLASSIFICATION, Length: 71, dtype: int64\n"
          ]
        }
      ]
    },
    {
      "cell_type": "code",
      "source": [
        " #You may find it helpful to look at CLASSIFICATION value counts >1\n",
        "classification_counts_filtered = classification_counts[classification_counts > 1]\n",
        "print(classification_counts_filtered)"
      ],
      "metadata": {
        "colab": {
          "base_uri": "https://localhost:8080/"
        },
        "id": "wDtsf_KpkS1J",
        "outputId": "e34000af-9df8-435e-8528-62bd43420733"
      },
      "execution_count": 58,
      "outputs": [
        {
          "output_type": "stream",
          "name": "stdout",
          "text": [
            "C1000    17326\n",
            "C2000     6074\n",
            "C1200     4837\n",
            "C3000     1918\n",
            "C2100     1883\n",
            "C7000      777\n",
            "C1700      287\n",
            "C4000      194\n",
            "C5000      116\n",
            "C1270      114\n",
            "C2700      104\n",
            "C2800       95\n",
            "C7100       75\n",
            "C1300       58\n",
            "C1280       50\n",
            "C1230       36\n",
            "C1400       34\n",
            "C7200       32\n",
            "C2300       32\n",
            "C1240       30\n",
            "C8000       20\n",
            "C7120       18\n",
            "C1500       16\n",
            "C1800       15\n",
            "C6000       15\n",
            "C1250       14\n",
            "C8200       11\n",
            "C1238       10\n",
            "C1278       10\n",
            "C1235        9\n",
            "C1237        9\n",
            "C7210        7\n",
            "C2400        6\n",
            "C1720        6\n",
            "C4100        6\n",
            "C1257        5\n",
            "C1600        5\n",
            "C1260        3\n",
            "C2710        3\n",
            "C0           3\n",
            "C3200        2\n",
            "C1234        2\n",
            "C1246        2\n",
            "C1267        2\n",
            "C1256        2\n",
            "Name: CLASSIFICATION, dtype: int64\n"
          ]
        }
      ]
    },
    {
      "cell_type": "code",
      "source": [
        "# Choose a cutoff value and create a list of classifications to be replaced\n",
        "# use the variable name `classifications_to_replace`\n",
        "cutoff = 1000\n",
        "classifications_to_replace = [cls for cls, count in classification_counts.items() if count < cutoff]\n",
        "\n",
        "# Replace in dataframe\n",
        "for cls in classifications_to_replace:\n",
        "    application_df['CLASSIFICATION'] = application_df['CLASSIFICATION'].replace(cls,\"Other\")\n",
        "\n",
        "# Check to make sure binning was successful\n",
        "application_df['CLASSIFICATION'].value_counts()"
      ],
      "metadata": {
        "colab": {
          "base_uri": "https://localhost:8080/"
        },
        "id": "w3yLZJijDhFw",
        "outputId": "3ae2c6f0-4d0f-4437-fc05-86ad2a832f9d"
      },
      "execution_count": 59,
      "outputs": [
        {
          "output_type": "execute_result",
          "data": {
            "text/plain": [
              "C1000    17326\n",
              "C2000     6074\n",
              "C1200     4837\n",
              "Other     2261\n",
              "C3000     1918\n",
              "C2100     1883\n",
              "Name: CLASSIFICATION, dtype: int64"
            ]
          },
          "metadata": {},
          "execution_count": 59
        }
      ]
    },
    {
      "cell_type": "code",
      "source": [
        "NAME_counts = application_df['NAME'].value_counts()\n",
        "print(NAME_counts)"
      ],
      "metadata": {
        "colab": {
          "base_uri": "https://localhost:8080/"
        },
        "id": "5ztOazQyUEhe",
        "outputId": "fb65ebee-e60b-4385-c053-79b3b2e8b3d0"
      },
      "execution_count": 60,
      "outputs": [
        {
          "output_type": "stream",
          "name": "stdout",
          "text": [
            "PARENT BOOSTER USA INC                                                  1260\n",
            "TOPS CLUB INC                                                            765\n",
            "UNITED STATES BOWLING CONGRESS INC                                       700\n",
            "WASHINGTON STATE UNIVERSITY                                              492\n",
            "AMATEUR ATHLETIC UNION OF THE UNITED STATES INC                          408\n",
            "                                                                        ... \n",
            "ST LOUIS SLAM WOMENS FOOTBALL                                              1\n",
            "AIESEC ALUMNI IBEROAMERICA CORP                                            1\n",
            "WEALLBLEEDRED ORG INC                                                      1\n",
            "AMERICAN SOCIETY FOR STANDARDS IN MEDIUMSHIP & PSYCHICAL INVESTIGATI       1\n",
            "WATERHOUSE CHARITABLE TR                                                   1\n",
            "Name: NAME, Length: 19568, dtype: int64\n"
          ]
        }
      ]
    },
    {
      "cell_type": "code",
      "source": [
        "# Choose a cutoff value and create a list of classifications to be replaced\n",
        "# use the variable name `classifications_to_replace`\n",
        "cutoff = 50\n",
        "NAME_to_replace = [cls for cls, count in NAME_counts.items() if count < cutoff]\n",
        "\n",
        "# Replace in dataframe\n",
        "for cls in NAME_to_replace:\n",
        "    application_df['NAME'] = application_df['NAME'].replace(cls,\"Other\")\n",
        "\n",
        "# Check to make sure binning was successful\n",
        "application_df['NAME'].value_counts()"
      ],
      "metadata": {
        "colab": {
          "base_uri": "https://localhost:8080/"
        },
        "id": "EFFeQUVoTunH",
        "outputId": "63322eef-36f8-4503-e685-48405bf0a0e8"
      },
      "execution_count": 61,
      "outputs": [
        {
          "output_type": "execute_result",
          "data": {
            "text/plain": [
              "Other                                                                 24545\n",
              "PARENT BOOSTER USA INC                                                 1260\n",
              "TOPS CLUB INC                                                           765\n",
              "UNITED STATES BOWLING CONGRESS INC                                      700\n",
              "WASHINGTON STATE UNIVERSITY                                             492\n",
              "AMATEUR ATHLETIC UNION OF THE UNITED STATES INC                         408\n",
              "PTA TEXAS CONGRESS                                                      368\n",
              "SOROPTIMIST INTERNATIONAL OF THE AMERICAS INC                           331\n",
              "ALPHA PHI SIGMA                                                         313\n",
              "TOASTMASTERS INTERNATIONAL                                              293\n",
              "MOST WORSHIPFUL STRINGER FREE AND ACCEPTED MASONS                       287\n",
              "LITTLE LEAGUE BASEBALL INC                                              277\n",
              "INTERNATIONAL ASSOCIATION OF LIONS CLUBS                                266\n",
              "MOMS CLUB                                                               210\n",
              "INTERNATIONAL ASSOCIATION OF SHEET METAL AIR RAIL & TRANSPORTATION      206\n",
              "AMERICAN ASSOCIATION OF UNIVERSITY WOMEN                                197\n",
              "FARMERS EDUCATIONAL AND COOPERATIVE UNION OF AMERICA                    166\n",
              "KNIGHTS OF COLUMBUS                                                     158\n",
              "HABITAT FOR HUMANITY INTERNATIONAL INC                                  154\n",
              "TENNESSEE ORDER OF THE EASTERN STAR                                     151\n",
              "VETERANS OF FOREIGN WARS OF THE UNITED STATES AUXILIARY                 144\n",
              "PTA UTAH CONGRESS                                                       140\n",
              "THE UNITED STATES PONY CLUBS INC                                        136\n",
              "CIVITAN INTERNATIONAL                                                   131\n",
              "SIGMA BETA DELTA INC                                                    127\n",
              "MONTANA 4-H FOUNDATION INC                                              107\n",
              "HONOR SOCIETY OF PHI KAPPA PHI                                          107\n",
              "WASHINGTON STATE GRANGE                                                 106\n",
              "UNIVERSITY OF WYOMING                                                   105\n",
              "DEMOLAY INTERNATIONAL                                                   104\n",
              "SERTOMA INC                                                             103\n",
              "AIR FORCE ASSOCIATION                                                    99\n",
              "WORKERS UNITED                                                           97\n",
              "GAMMA THETA UPSILON                                                      92\n",
              "INTERNATIONAL ASSOCIATION OF FIRE FIGHTERS                               91\n",
              "SOCIETY OF SAINT VINCENT DE PAUL COUNCIL OF LOS ANGELES                  87\n",
              "ROTARY INTERNATIONAL                                                     84\n",
              "CALIFORNIA GARDEN CLUBS INC                                              76\n",
              "SWEET ADELINES INTERNATIONAL                                             73\n",
              "DISABLED AMERICAN VETERANS                                               73\n",
              "KLEIN SUPPORT GROUPS INC                                                 69\n",
              "CLEARCREEK I S D SUPPORT GROUPS                                          60\n",
              "VFW AUXILIARY DEPARTMENT OF OKLAHOMA INC                                 58\n",
              "CISD EDUCATIONAL SUPPORT GROUPS INC                                      57\n",
              "DEPARTMENT OF KANSAS LADIES AUXILIARY TO THE VFW OF THE US INC           57\n",
              "SONS OF CONFEDERATE VETERANS INC                                         56\n",
              "SLOW FOOD USA INC                                                        55\n",
              "NATIONAL YOUNG MENS SERVICE LEAGUE                                       54\n",
              "AMATEUR ATHLETIC UNION OF THE UNITED STATES                              52\n",
              "LAMBDA THETA ALPHA                                                       52\n",
              "UNITED FEDERATION OF DOLL CLUBS INC                                      50\n",
              "UNIVERSITY OF FLORIDA                                                    50\n",
              "Name: NAME, dtype: int64"
            ]
          },
          "metadata": {},
          "execution_count": 61
        }
      ]
    },
    {
      "cell_type": "code",
      "source": [
        "# Convert categorical data to numeric with `pd.get_dummies`\n",
        "application_df_dummies = pd.get_dummies(application_df)\n"
      ],
      "metadata": {
        "id": "jMpEsoc5Dk85"
      },
      "execution_count": 62,
      "outputs": []
    },
    {
      "cell_type": "code",
      "source": [
        "application_df_dummies.shape"
      ],
      "metadata": {
        "colab": {
          "base_uri": "https://localhost:8080/"
        },
        "id": "pg4_8vcISyf9",
        "outputId": "8589812b-3026-461e-f09e-4577f7a457f7"
      },
      "execution_count": 63,
      "outputs": [
        {
          "output_type": "execute_result",
          "data": {
            "text/plain": [
              "(34299, 97)"
            ]
          },
          "metadata": {},
          "execution_count": 63
        }
      ]
    },
    {
      "cell_type": "code",
      "source": [
        "# Split our preprocessed data into our features and target arrays\n",
        "Y = application_df_dummies['IS_SUCCESSFUL'].values\n",
        "X = application_df_dummies.drop(['IS_SUCCESSFUL'], axis=1).values\n",
        "\n",
        "# Split the preprocessed data into a training and testing dataset\n",
        "X_train, X_test, Y_train, Y_test = train_test_split(X, Y, test_size=0.2, random_state=42)"
      ],
      "metadata": {
        "id": "Lc9PYkVCfUWd"
      },
      "execution_count": 64,
      "outputs": []
    },
    {
      "cell_type": "code",
      "source": [
        "# Create a StandardScaler instances\n",
        "scaler = StandardScaler()\n",
        "\n",
        "# Fit the StandardScaler\n",
        "X_scaler = scaler.fit(X_train)\n",
        "\n",
        "# Scale the data\n",
        "X_train_scaled = X_scaler.transform(X_train)\n",
        "X_test_scaled = X_scaler.transform(X_test)"
      ],
      "metadata": {
        "id": "KvQm1pJnfmDy"
      },
      "execution_count": 65,
      "outputs": []
    },
    {
      "cell_type": "code",
      "source": [
        "def create_model(input_dim, output_activation, hidden_layers=2, neurons=64, dropout_rate=0.1, activation='relu'):\n",
        "    model = Sequential()\n",
        "    model.add(Dense(neurons, input_dim=input_dim, activation=activation))\n",
        "    for _ in range(hidden_layers - 1):\n",
        "        model.add(Dense(neurons, activation=activation))\n",
        "    model.add(Dropout(dropout_rate))\n",
        "    model.add(Dense(1, activation=output_activation))\n",
        "    return model"
      ],
      "metadata": {
        "id": "aCLqElcVgnpQ"
      },
      "execution_count": 66,
      "outputs": []
    },
    {
      "cell_type": "code",
      "source": [
        "# Define model parameters\n",
        "input_dim = 784\n",
        "output_activation = 'sigmoid'\n",
        "hidden_layers = 2\n",
        "neurons = 64\n",
        "dropout_rate = 0.2\n",
        "\n",
        "# Create and compile the model\n",
        "nn = create_model(input_dim, output_activation, hidden_layers, neurons, dropout_rate)\n",
        "nn.compile(loss='binary_crossentropy', optimizer='adam', metrics=['accuracy'])"
      ],
      "metadata": {
        "id": "NC5OtPvDg5j5"
      },
      "execution_count": 67,
      "outputs": []
    },
    {
      "cell_type": "code",
      "source": [
        "number_input_features = X_train.shape[1]\n",
        "nn = tf.keras.models.Sequential()\n",
        "\n",
        "# First hidden layer\n",
        "nn.add(tf.keras.layers.Dense(units=90, activation='relu', input_dim=number_input_features))\n",
        "\n",
        "# Second hidden layer\n",
        "nn.add(tf.keras.layers.Dense(units=40, activation='sigmoid'))\n",
        "\n",
        "\n",
        "# Output layer\n",
        "nn.add(tf.keras.layers.Dense(units=1, activation='sigmoid'))\n",
        "\n",
        "# Check the structure of the model\n",
        "nn.compile(loss='binary_crossentropy', optimizer='adam', metrics=['accuracy'])\n",
        "nn.summary()"
      ],
      "metadata": {
        "colab": {
          "base_uri": "https://localhost:8080/"
        },
        "id": "Gy06866iZE_3",
        "outputId": "3c84972d-3683-4d77-80b8-326c1af826e0"
      },
      "execution_count": 89,
      "outputs": [
        {
          "output_type": "stream",
          "name": "stdout",
          "text": [
            "Model: \"sequential_13\"\n",
            "_________________________________________________________________\n",
            " Layer (type)                Output Shape              Param #   \n",
            "=================================================================\n",
            " dense_32 (Dense)            (None, 90)                8730      \n",
            "                                                                 \n",
            " dense_33 (Dense)            (None, 40)                3640      \n",
            "                                                                 \n",
            " dense_34 (Dense)            (None, 1)                 41        \n",
            "                                                                 \n",
            "=================================================================\n",
            "Total params: 12411 (48.48 KB)\n",
            "Trainable params: 12411 (48.48 KB)\n",
            "Non-trainable params: 0 (0.00 Byte)\n",
            "_________________________________________________________________\n"
          ]
        }
      ]
    },
    {
      "cell_type": "code",
      "source": [
        "# Train the model\n",
        "history = nn.fit(X_train_scaled, Y_train, epochs=100, batch_size=32, validation_split=0.2)"
      ],
      "metadata": {
        "colab": {
          "base_uri": "https://localhost:8080/"
        },
        "id": "HpAi2as4ZT_u",
        "outputId": "58f1252e-8787-4fb3-94bb-d0fd0202a0fc"
      },
      "execution_count": 90,
      "outputs": [
        {
          "output_type": "stream",
          "name": "stdout",
          "text": [
            "Epoch 1/100\n",
            "686/686 [==============================] - 4s 4ms/step - loss: 0.5123 - accuracy: 0.7419 - val_loss: 0.4687 - val_accuracy: 0.7770\n",
            "Epoch 2/100\n",
            "686/686 [==============================] - 2s 3ms/step - loss: 0.4817 - accuracy: 0.7619 - val_loss: 0.4702 - val_accuracy: 0.7730\n",
            "Epoch 3/100\n",
            "686/686 [==============================] - 2s 3ms/step - loss: 0.4784 - accuracy: 0.7636 - val_loss: 0.4692 - val_accuracy: 0.7622\n",
            "Epoch 4/100\n",
            "686/686 [==============================] - 2s 3ms/step - loss: 0.4763 - accuracy: 0.7642 - val_loss: 0.4681 - val_accuracy: 0.7682\n",
            "Epoch 5/100\n",
            "686/686 [==============================] - 2s 3ms/step - loss: 0.4746 - accuracy: 0.7661 - val_loss: 0.4661 - val_accuracy: 0.7742\n",
            "Epoch 6/100\n",
            "686/686 [==============================] - 2s 3ms/step - loss: 0.4732 - accuracy: 0.7656 - val_loss: 0.4651 - val_accuracy: 0.7746\n",
            "Epoch 7/100\n",
            "686/686 [==============================] - 3s 4ms/step - loss: 0.4723 - accuracy: 0.7673 - val_loss: 0.4636 - val_accuracy: 0.7751\n",
            "Epoch 8/100\n",
            "686/686 [==============================] - 2s 3ms/step - loss: 0.4710 - accuracy: 0.7683 - val_loss: 0.4647 - val_accuracy: 0.7739\n",
            "Epoch 9/100\n",
            "686/686 [==============================] - 2s 3ms/step - loss: 0.4703 - accuracy: 0.7693 - val_loss: 0.4644 - val_accuracy: 0.7772\n",
            "Epoch 10/100\n",
            "686/686 [==============================] - 2s 3ms/step - loss: 0.4696 - accuracy: 0.7695 - val_loss: 0.4615 - val_accuracy: 0.7779\n",
            "Epoch 11/100\n",
            "686/686 [==============================] - 2s 3ms/step - loss: 0.4684 - accuracy: 0.7696 - val_loss: 0.4618 - val_accuracy: 0.7790\n",
            "Epoch 12/100\n",
            "686/686 [==============================] - 2s 2ms/step - loss: 0.4677 - accuracy: 0.7699 - val_loss: 0.4634 - val_accuracy: 0.7768\n",
            "Epoch 13/100\n",
            "686/686 [==============================] - 3s 5ms/step - loss: 0.4668 - accuracy: 0.7690 - val_loss: 0.4615 - val_accuracy: 0.7757\n",
            "Epoch 14/100\n",
            "686/686 [==============================] - 4s 5ms/step - loss: 0.4662 - accuracy: 0.7704 - val_loss: 0.4637 - val_accuracy: 0.7757\n",
            "Epoch 15/100\n",
            "686/686 [==============================] - 3s 4ms/step - loss: 0.4660 - accuracy: 0.7714 - val_loss: 0.4646 - val_accuracy: 0.7751\n",
            "Epoch 16/100\n",
            "686/686 [==============================] - 3s 4ms/step - loss: 0.4651 - accuracy: 0.7699 - val_loss: 0.4622 - val_accuracy: 0.7744\n",
            "Epoch 17/100\n",
            "686/686 [==============================] - 5s 7ms/step - loss: 0.4648 - accuracy: 0.7719 - val_loss: 0.4625 - val_accuracy: 0.7757\n",
            "Epoch 18/100\n",
            "686/686 [==============================] - 2s 4ms/step - loss: 0.4636 - accuracy: 0.7721 - val_loss: 0.4620 - val_accuracy: 0.7781\n",
            "Epoch 19/100\n",
            "686/686 [==============================] - 2s 3ms/step - loss: 0.4632 - accuracy: 0.7714 - val_loss: 0.4640 - val_accuracy: 0.7772\n",
            "Epoch 20/100\n",
            "686/686 [==============================] - 2s 3ms/step - loss: 0.4628 - accuracy: 0.7731 - val_loss: 0.4645 - val_accuracy: 0.7748\n",
            "Epoch 21/100\n",
            "686/686 [==============================] - 2s 3ms/step - loss: 0.4621 - accuracy: 0.7725 - val_loss: 0.4649 - val_accuracy: 0.7750\n",
            "Epoch 22/100\n",
            "686/686 [==============================] - 2s 3ms/step - loss: 0.4613 - accuracy: 0.7715 - val_loss: 0.4644 - val_accuracy: 0.7742\n",
            "Epoch 23/100\n",
            "686/686 [==============================] - 3s 4ms/step - loss: 0.4609 - accuracy: 0.7741 - val_loss: 0.4649 - val_accuracy: 0.7688\n",
            "Epoch 24/100\n",
            "686/686 [==============================] - 2s 3ms/step - loss: 0.4599 - accuracy: 0.7740 - val_loss: 0.4644 - val_accuracy: 0.7757\n",
            "Epoch 25/100\n",
            "686/686 [==============================] - 2s 3ms/step - loss: 0.4604 - accuracy: 0.7741 - val_loss: 0.4646 - val_accuracy: 0.7724\n",
            "Epoch 26/100\n",
            "686/686 [==============================] - 2s 3ms/step - loss: 0.4597 - accuracy: 0.7753 - val_loss: 0.4621 - val_accuracy: 0.7759\n",
            "Epoch 27/100\n",
            "686/686 [==============================] - 2s 3ms/step - loss: 0.4592 - accuracy: 0.7749 - val_loss: 0.4635 - val_accuracy: 0.7781\n",
            "Epoch 28/100\n",
            "686/686 [==============================] - 2s 3ms/step - loss: 0.4581 - accuracy: 0.7741 - val_loss: 0.4620 - val_accuracy: 0.7779\n",
            "Epoch 29/100\n",
            "686/686 [==============================] - 3s 4ms/step - loss: 0.4578 - accuracy: 0.7738 - val_loss: 0.4638 - val_accuracy: 0.7751\n",
            "Epoch 30/100\n",
            "686/686 [==============================] - 2s 3ms/step - loss: 0.4578 - accuracy: 0.7748 - val_loss: 0.4639 - val_accuracy: 0.7737\n",
            "Epoch 31/100\n",
            "686/686 [==============================] - 2s 3ms/step - loss: 0.4566 - accuracy: 0.7768 - val_loss: 0.4647 - val_accuracy: 0.7719\n",
            "Epoch 32/100\n",
            "686/686 [==============================] - 2s 3ms/step - loss: 0.4562 - accuracy: 0.7775 - val_loss: 0.4624 - val_accuracy: 0.7757\n",
            "Epoch 33/100\n",
            "686/686 [==============================] - 2s 3ms/step - loss: 0.4558 - accuracy: 0.7783 - val_loss: 0.4646 - val_accuracy: 0.7779\n",
            "Epoch 34/100\n",
            "686/686 [==============================] - 2s 3ms/step - loss: 0.4552 - accuracy: 0.7782 - val_loss: 0.4637 - val_accuracy: 0.7757\n",
            "Epoch 35/100\n",
            "686/686 [==============================] - 3s 4ms/step - loss: 0.4546 - accuracy: 0.7792 - val_loss: 0.4649 - val_accuracy: 0.7784\n",
            "Epoch 36/100\n",
            "686/686 [==============================] - 2s 3ms/step - loss: 0.4547 - accuracy: 0.7789 - val_loss: 0.4643 - val_accuracy: 0.7735\n",
            "Epoch 37/100\n",
            "686/686 [==============================] - 2s 3ms/step - loss: 0.4536 - accuracy: 0.7780 - val_loss: 0.4654 - val_accuracy: 0.7742\n",
            "Epoch 38/100\n",
            "686/686 [==============================] - 2s 3ms/step - loss: 0.4534 - accuracy: 0.7787 - val_loss: 0.4646 - val_accuracy: 0.7748\n",
            "Epoch 39/100\n",
            "686/686 [==============================] - 2s 3ms/step - loss: 0.4529 - accuracy: 0.7801 - val_loss: 0.4642 - val_accuracy: 0.7759\n",
            "Epoch 40/100\n",
            "686/686 [==============================] - 2s 3ms/step - loss: 0.4528 - accuracy: 0.7783 - val_loss: 0.4633 - val_accuracy: 0.7762\n",
            "Epoch 41/100\n",
            "686/686 [==============================] - 3s 5ms/step - loss: 0.4519 - accuracy: 0.7805 - val_loss: 0.4677 - val_accuracy: 0.7726\n",
            "Epoch 42/100\n",
            "686/686 [==============================] - 2s 3ms/step - loss: 0.4513 - accuracy: 0.7808 - val_loss: 0.4666 - val_accuracy: 0.7759\n",
            "Epoch 43/100\n",
            "686/686 [==============================] - 2s 3ms/step - loss: 0.4511 - accuracy: 0.7796 - val_loss: 0.4640 - val_accuracy: 0.7777\n",
            "Epoch 44/100\n",
            "686/686 [==============================] - 2s 3ms/step - loss: 0.4506 - accuracy: 0.7811 - val_loss: 0.4646 - val_accuracy: 0.7777\n",
            "Epoch 45/100\n",
            "686/686 [==============================] - 2s 3ms/step - loss: 0.4499 - accuracy: 0.7793 - val_loss: 0.4699 - val_accuracy: 0.7710\n",
            "Epoch 46/100\n",
            "686/686 [==============================] - 2s 3ms/step - loss: 0.4502 - accuracy: 0.7800 - val_loss: 0.4652 - val_accuracy: 0.7750\n",
            "Epoch 47/100\n",
            "686/686 [==============================] - 3s 4ms/step - loss: 0.4491 - accuracy: 0.7811 - val_loss: 0.4703 - val_accuracy: 0.7770\n",
            "Epoch 48/100\n",
            "686/686 [==============================] - 2s 3ms/step - loss: 0.4486 - accuracy: 0.7804 - val_loss: 0.4658 - val_accuracy: 0.7772\n",
            "Epoch 49/100\n",
            "686/686 [==============================] - 2s 3ms/step - loss: 0.4484 - accuracy: 0.7799 - val_loss: 0.4676 - val_accuracy: 0.7744\n",
            "Epoch 50/100\n",
            "686/686 [==============================] - 2s 3ms/step - loss: 0.4480 - accuracy: 0.7834 - val_loss: 0.4670 - val_accuracy: 0.7768\n",
            "Epoch 51/100\n",
            "686/686 [==============================] - 2s 3ms/step - loss: 0.4475 - accuracy: 0.7829 - val_loss: 0.4674 - val_accuracy: 0.7728\n",
            "Epoch 52/100\n",
            "686/686 [==============================] - 2s 3ms/step - loss: 0.4471 - accuracy: 0.7833 - val_loss: 0.4681 - val_accuracy: 0.7761\n",
            "Epoch 53/100\n",
            "686/686 [==============================] - 3s 4ms/step - loss: 0.4466 - accuracy: 0.7830 - val_loss: 0.4664 - val_accuracy: 0.7764\n",
            "Epoch 54/100\n",
            "686/686 [==============================] - 2s 3ms/step - loss: 0.4468 - accuracy: 0.7827 - val_loss: 0.4672 - val_accuracy: 0.7779\n",
            "Epoch 55/100\n",
            "686/686 [==============================] - 2s 3ms/step - loss: 0.4453 - accuracy: 0.7823 - val_loss: 0.4690 - val_accuracy: 0.7755\n",
            "Epoch 56/100\n",
            "686/686 [==============================] - 2s 3ms/step - loss: 0.4459 - accuracy: 0.7843 - val_loss: 0.4678 - val_accuracy: 0.7761\n",
            "Epoch 57/100\n",
            "686/686 [==============================] - 2s 3ms/step - loss: 0.4450 - accuracy: 0.7841 - val_loss: 0.4696 - val_accuracy: 0.7757\n",
            "Epoch 58/100\n",
            "686/686 [==============================] - 2s 3ms/step - loss: 0.4448 - accuracy: 0.7838 - val_loss: 0.4683 - val_accuracy: 0.7764\n",
            "Epoch 59/100\n",
            "686/686 [==============================] - 3s 4ms/step - loss: 0.4442 - accuracy: 0.7860 - val_loss: 0.4688 - val_accuracy: 0.7764\n",
            "Epoch 60/100\n",
            "686/686 [==============================] - 2s 4ms/step - loss: 0.4436 - accuracy: 0.7842 - val_loss: 0.4698 - val_accuracy: 0.7755\n",
            "Epoch 61/100\n",
            "686/686 [==============================] - 2s 3ms/step - loss: 0.4437 - accuracy: 0.7839 - val_loss: 0.4702 - val_accuracy: 0.7757\n",
            "Epoch 62/100\n",
            "686/686 [==============================] - 2s 3ms/step - loss: 0.4432 - accuracy: 0.7853 - val_loss: 0.4705 - val_accuracy: 0.7761\n",
            "Epoch 63/100\n",
            "686/686 [==============================] - 2s 3ms/step - loss: 0.4428 - accuracy: 0.7849 - val_loss: 0.4719 - val_accuracy: 0.7737\n",
            "Epoch 64/100\n",
            "686/686 [==============================] - 2s 3ms/step - loss: 0.4423 - accuracy: 0.7851 - val_loss: 0.4729 - val_accuracy: 0.7719\n",
            "Epoch 65/100\n",
            "686/686 [==============================] - 2s 3ms/step - loss: 0.4425 - accuracy: 0.7855 - val_loss: 0.4719 - val_accuracy: 0.7750\n",
            "Epoch 66/100\n",
            "686/686 [==============================] - 3s 4ms/step - loss: 0.4419 - accuracy: 0.7856 - val_loss: 0.4699 - val_accuracy: 0.7766\n",
            "Epoch 67/100\n",
            "686/686 [==============================] - 2s 3ms/step - loss: 0.4415 - accuracy: 0.7868 - val_loss: 0.4711 - val_accuracy: 0.7719\n",
            "Epoch 68/100\n",
            "686/686 [==============================] - 2s 3ms/step - loss: 0.4413 - accuracy: 0.7853 - val_loss: 0.4721 - val_accuracy: 0.7719\n",
            "Epoch 69/100\n",
            "686/686 [==============================] - 2s 3ms/step - loss: 0.4406 - accuracy: 0.7863 - val_loss: 0.4741 - val_accuracy: 0.7773\n",
            "Epoch 70/100\n",
            "686/686 [==============================] - 2s 3ms/step - loss: 0.4405 - accuracy: 0.7861 - val_loss: 0.4766 - val_accuracy: 0.7713\n",
            "Epoch 71/100\n",
            "686/686 [==============================] - 2s 3ms/step - loss: 0.4396 - accuracy: 0.7862 - val_loss: 0.4721 - val_accuracy: 0.7755\n",
            "Epoch 72/100\n",
            "686/686 [==============================] - 2s 4ms/step - loss: 0.4393 - accuracy: 0.7869 - val_loss: 0.4730 - val_accuracy: 0.7768\n",
            "Epoch 73/100\n",
            "686/686 [==============================] - 2s 3ms/step - loss: 0.4398 - accuracy: 0.7861 - val_loss: 0.4733 - val_accuracy: 0.7775\n",
            "Epoch 74/100\n",
            "686/686 [==============================] - 2s 3ms/step - loss: 0.4393 - accuracy: 0.7862 - val_loss: 0.4747 - val_accuracy: 0.7768\n",
            "Epoch 75/100\n",
            "686/686 [==============================] - 2s 3ms/step - loss: 0.4389 - accuracy: 0.7873 - val_loss: 0.4716 - val_accuracy: 0.7786\n",
            "Epoch 76/100\n",
            "686/686 [==============================] - 2s 3ms/step - loss: 0.4382 - accuracy: 0.7868 - val_loss: 0.4754 - val_accuracy: 0.7775\n",
            "Epoch 77/100\n",
            "686/686 [==============================] - 2s 3ms/step - loss: 0.4388 - accuracy: 0.7858 - val_loss: 0.4731 - val_accuracy: 0.7761\n",
            "Epoch 78/100\n",
            "686/686 [==============================] - 3s 4ms/step - loss: 0.4377 - accuracy: 0.7878 - val_loss: 0.4755 - val_accuracy: 0.7735\n",
            "Epoch 79/100\n",
            "686/686 [==============================] - 2s 3ms/step - loss: 0.4379 - accuracy: 0.7873 - val_loss: 0.4744 - val_accuracy: 0.7746\n",
            "Epoch 80/100\n",
            "686/686 [==============================] - 2s 3ms/step - loss: 0.4375 - accuracy: 0.7865 - val_loss: 0.4740 - val_accuracy: 0.7766\n",
            "Epoch 81/100\n",
            "686/686 [==============================] - 2s 3ms/step - loss: 0.4367 - accuracy: 0.7884 - val_loss: 0.4747 - val_accuracy: 0.7739\n",
            "Epoch 82/100\n",
            "686/686 [==============================] - 2s 3ms/step - loss: 0.4369 - accuracy: 0.7878 - val_loss: 0.4755 - val_accuracy: 0.7757\n",
            "Epoch 83/100\n",
            "686/686 [==============================] - 2s 3ms/step - loss: 0.4361 - accuracy: 0.7896 - val_loss: 0.4767 - val_accuracy: 0.7751\n",
            "Epoch 84/100\n",
            "686/686 [==============================] - 3s 4ms/step - loss: 0.4359 - accuracy: 0.7891 - val_loss: 0.4754 - val_accuracy: 0.7768\n",
            "Epoch 85/100\n",
            "686/686 [==============================] - 2s 3ms/step - loss: 0.4359 - accuracy: 0.7893 - val_loss: 0.4750 - val_accuracy: 0.7751\n",
            "Epoch 86/100\n",
            "686/686 [==============================] - 2s 3ms/step - loss: 0.4357 - accuracy: 0.7872 - val_loss: 0.4761 - val_accuracy: 0.7753\n",
            "Epoch 87/100\n",
            "686/686 [==============================] - 2s 3ms/step - loss: 0.4353 - accuracy: 0.7884 - val_loss: 0.4780 - val_accuracy: 0.7744\n",
            "Epoch 88/100\n",
            "686/686 [==============================] - 2s 3ms/step - loss: 0.4352 - accuracy: 0.7887 - val_loss: 0.4761 - val_accuracy: 0.7775\n",
            "Epoch 89/100\n",
            "686/686 [==============================] - 2s 3ms/step - loss: 0.4342 - accuracy: 0.7896 - val_loss: 0.4801 - val_accuracy: 0.7731\n",
            "Epoch 90/100\n",
            "686/686 [==============================] - 3s 4ms/step - loss: 0.4343 - accuracy: 0.7897 - val_loss: 0.4789 - val_accuracy: 0.7753\n",
            "Epoch 91/100\n",
            "686/686 [==============================] - 2s 3ms/step - loss: 0.4341 - accuracy: 0.7883 - val_loss: 0.4771 - val_accuracy: 0.7755\n",
            "Epoch 92/100\n",
            "686/686 [==============================] - 2s 3ms/step - loss: 0.4337 - accuracy: 0.7894 - val_loss: 0.4792 - val_accuracy: 0.7739\n",
            "Epoch 93/100\n",
            "686/686 [==============================] - 2s 3ms/step - loss: 0.4341 - accuracy: 0.7897 - val_loss: 0.4789 - val_accuracy: 0.7710\n",
            "Epoch 94/100\n",
            "686/686 [==============================] - 2s 3ms/step - loss: 0.4332 - accuracy: 0.7899 - val_loss: 0.4773 - val_accuracy: 0.7739\n",
            "Epoch 95/100\n",
            "686/686 [==============================] - 2s 3ms/step - loss: 0.4333 - accuracy: 0.7896 - val_loss: 0.4789 - val_accuracy: 0.7751\n",
            "Epoch 96/100\n",
            "686/686 [==============================] - 3s 4ms/step - loss: 0.4326 - accuracy: 0.7903 - val_loss: 0.4787 - val_accuracy: 0.7757\n",
            "Epoch 97/100\n",
            "686/686 [==============================] - 2s 3ms/step - loss: 0.4324 - accuracy: 0.7891 - val_loss: 0.4809 - val_accuracy: 0.7755\n",
            "Epoch 98/100\n",
            "686/686 [==============================] - 2s 3ms/step - loss: 0.4324 - accuracy: 0.7898 - val_loss: 0.4810 - val_accuracy: 0.7730\n",
            "Epoch 99/100\n",
            "686/686 [==============================] - 2s 3ms/step - loss: 0.4324 - accuracy: 0.7909 - val_loss: 0.4787 - val_accuracy: 0.7779\n",
            "Epoch 100/100\n",
            "686/686 [==============================] - 2s 3ms/step - loss: 0.4316 - accuracy: 0.7903 - val_loss: 0.4790 - val_accuracy: 0.7757\n"
          ]
        }
      ]
    },
    {
      "cell_type": "code",
      "source": [
        "# Evaluate the model using the test data\n",
        "test_loss = nn.evaluate(X_test_scaled, Y_test, verbose=1)\n",
        "test_accuracy = 0.0\n",
        "print(f'Test Loss: {test_loss}')\n",
        "print(f'Test Accuracy: {test_accuracy}')"
      ],
      "metadata": {
        "id": "dI9o-UDjHICM",
        "colab": {
          "base_uri": "https://localhost:8080/"
        },
        "outputId": "0e16b6cf-8932-49de-d7b2-0e413837b8c8"
      },
      "execution_count": 91,
      "outputs": [
        {
          "output_type": "stream",
          "name": "stdout",
          "text": [
            "215/215 [==============================] - 1s 2ms/step - loss: 0.5226 - accuracy: 0.7512\n",
            "Test Loss: [0.5225561857223511, 0.7511661648750305]\n",
            "Test Accuracy: 0.0\n"
          ]
        }
      ]
    },
    {
      "cell_type": "code",
      "source": [
        "#Save and Export\n",
        "model_path2 = '/mnt/data/my_model.h5'\n",
        "nn.save(model_path2)\n",
        "\n",
        "print(f'Model saved to {model_path2}')"
      ],
      "metadata": {
        "id": "JpEs6nKfhK4P",
        "colab": {
          "base_uri": "https://localhost:8080/"
        },
        "outputId": "2bdc20d7-32a1-4014-da14-5fba6f7ebff4"
      },
      "execution_count": 98,
      "outputs": [
        {
          "output_type": "stream",
          "name": "stdout",
          "text": [
            "Model saved to /mnt/data/my_model.h5\n"
          ]
        },
        {
          "output_type": "stream",
          "name": "stderr",
          "text": [
            "/usr/local/lib/python3.10/dist-packages/keras/src/engine/training.py:3103: UserWarning: You are saving your model as an HDF5 file via `model.save()`. This file format is considered legacy. We recommend using instead the native Keras format, e.g. `model.save('my_model.keras')`.\n",
            "  saving_api.save_model(\n"
          ]
        }
      ]
    }
  ]
}